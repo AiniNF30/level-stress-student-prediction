{
 "cells": [
  {
   "cell_type": "code",
   "execution_count": 14,
   "metadata": {},
   "outputs": [],
   "source": [
    "import base64\n",
    "import json\n",
    "import random\n",
    "import pandas as pd\n",
    "import requests\n",
    "import tensorflow as tf"
   ]
  },
  {
   "cell_type": "code",
   "execution_count": 15,
   "metadata": {},
   "outputs": [],
   "source": [
    "data_csv = pd.read_csv(\"data/student_stress.csv\")"
   ]
  },
  {
   "cell_type": "code",
   "execution_count": 16,
   "metadata": {},
   "outputs": [
    {
     "data": {
      "text/plain": [
       "{'Study_Hours_Per_Day': 7.9,\n",
       " 'Extracurricular_Hours_Per_Day': 3.9,\n",
       " 'Sleep_Hours_Per_Day': 7.7,\n",
       " 'Social_Hours_Per_Day': 4.1,\n",
       " 'Physical_Activity_Hours_Per_Day': 0.4,\n",
       " 'GPA': 3.4,\n",
       " 'Stress_Level': 1.0}"
      ]
     },
     "execution_count": 16,
     "metadata": {},
     "output_type": "execute_result"
    }
   ],
   "source": [
    "# Cell 2: Memilih data acak untuk prediksi\n",
    "columns = data_csv.columns.values\n",
    "rand = random.randint(0, len(data_csv) - 1)\n",
    "\n",
    "# Mengambil fitur\n",
    "features = data_csv.values[rand]\n",
    "\n",
    "# Membuat dictionary input\n",
    "inputs = {key: value for key, value in zip(columns, features)}\n",
    "inputs\n",
    "     "
   ]
  },
  {
   "cell_type": "code",
   "execution_count": 18,
   "metadata": {},
   "outputs": [],
   "source": [
    "# Cell 3: Mendefinisikan fungsi-fungsi helper untuk membuat TFRecord\n",
    "def string_feature(value):\n",
    "    return tf.train.Feature(\n",
    "        bytes_list=tf.train.BytesList(value=[bytes(value, \"utf-8\")]),\n",
    "    )\n",
    "\n",
    "def float_feature(value):\n",
    "    return tf.train.Feature(\n",
    "        float_list=tf.train.FloatList(value=[value]),\n",
    "    )\n",
    "\n",
    "def int_feature(value):\n",
    "    return tf.train.Feature(\n",
    "        int64_list=tf.train.Int64List(value=[value]),\n",
    "    )"
   ]
  },
  {
   "cell_type": "code",
   "execution_count": 24,
   "metadata": {},
   "outputs": [],
   "source": [
    "# Cell 5: Fungsi untuk melakukan prediksi\n",
    "def make_predictions(inputs):\n",
    "    json_data = prepare_json(inputs)\n",
    "\n",
    "    endpoint = \"https://level-stress-prediction.up.railway.app/v1/models/level-stress-prediction:predict\"\n",
    "    response = requests.post(endpoint, data=json_data, headers={\"Content-Type\": \"application/json\"})\n",
    "    prediction = response.json()[\"predictions\"][0][0]\n",
    "\n",
    "    if prediction < 0.5:\n",
    "        return \"Tingkat Stress Rendah\"\n",
    "    else:\n",
    "        return \"Tingkat Stress Tinggi\"\n",
    "     "
   ]
  },
  {
   "cell_type": "code",
   "execution_count": 25,
   "metadata": {},
   "outputs": [
    {
     "name": "stdout",
     "output_type": "stream",
     "text": [
      "Hasil Prediksi: Tingkat Stress Tinggi\n",
      "Fitur Input: {'Study_Hours_Per_Day': 7.9, 'Extracurricular_Hours_Per_Day': 3.9, 'Sleep_Hours_Per_Day': 7.7, 'Social_Hours_Per_Day': 4.1, 'Physical_Activity_Hours_Per_Day': 0.4, 'GPA': 3.4, 'Stress_Level': 1.0}\n"
     ]
    }
   ],
   "source": [
    "hasil_prediksi = make_predictions(inputs)\n",
    "print(f'Hasil Prediksi: {hasil_prediksi}')\n",
    "print('Fitur Input:', inputs)"
   ]
  }
 ],
 "metadata": {
  "kernelspec": {
   "display_name": "mlops-tfx",
   "language": "python",
   "name": "python3"
  },
  "language_info": {
   "codemirror_mode": {
    "name": "ipython",
    "version": 3
   },
   "file_extension": ".py",
   "mimetype": "text/x-python",
   "name": "python",
   "nbconvert_exporter": "python",
   "pygments_lexer": "ipython3",
   "version": "3.9.15"
  }
 },
 "nbformat": 4,
 "nbformat_minor": 2
}
